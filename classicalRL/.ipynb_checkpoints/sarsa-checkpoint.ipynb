{
 "cells": [
  {
   "cell_type": "code",
   "execution_count": null,
   "id": "7f2c8fb1-bb52-46dd-9a2c-e032dd8c6824",
   "metadata": {},
   "outputs": [],
   "source": [
    "import gymnasium as gym\n",
    "import logging\n",
    "import numpy as np\n",
    "import sys\n",
    "from logger import get_logger"
   ]
  },
  {
   "cell_type": "code",
   "execution_count": null,
   "id": "18551aaf-1487-48ee-b23d-32fbd79000df",
   "metadata": {},
   "outputs": [],
   "source": [
    "class SARSA:\n",
    "    def __init__(self,env,logger,epsilon=0.1,gamma=1.0,alpha_start=1.0):\n",
    "        self.env = env\n",
    "        self.logger = logger\n",
    "        self.action_n = env.action_space.n\n",
    "        self.obs_n = env.observation_space.n\n",
    "        self.epsilon = epsilon\n",
    "        self.gamma = gamma\n",
    "        self.alpha_start = alpha_start\n",
    "        self.q_value = np.zeros((self.obs_n,self.action_n))\n",
    "        self.pi = np.random.randint(self.action_n,size=self.obs_n)\n",
    "    def evaluate(self,n_iter,eval_num=1):\n",
    "        expected_return = 0\n",
    "        for _ in range(eval_num):\n",
    "            obs, _ = self.env.reset()\n",
    "            returns = 0\n",
    "            done = False\n",
    "            while not done:\n",
    "                obs, reward, terminated, truncated, _ = self.env.step(self.pi[obs])\n",
    "                returns += reward\n",
    "                done = terminated or truncated\n",
    "            expected_return += returns\n",
    "        self.logger.info(\"[ITERATION {}]: The expected return is {}\".format(n_iter,expected_return/eval_num))\n",
    "    def run(self,num_episode=1000):\n",
    "        for eps in range(num_episode):\n",
    "            done = False\n",
    "            obs, _ = self.env.reset()\n",
    "            self.starting = obs\n",
    "            action = self.env.action_space.sample() if np.random.uniform(0,1) < self.epsilon else self.pi[obs]\n",
    "            t = 1\n",
    "            while not done:\n",
    "                obs_next, reward, terminated, truncated, _ = self.env.step(action)\n",
    "                action_next = self.env.action_space.sample() if np.random.uniform(0,1) < self.epsilon else self.pi[obs_next]\n",
    "                self.q_value[obs,action] += self.alpha_start/t * (reward + \n",
    "                                                                  self.gamma * self.q_value[obs_next,action_next] \n",
    "                                                                  - self.q_value[obs,action])\n",
    "                self.pi[obs] = np.argmax(self.q_value[obs,:])\n",
    "                obs = obs_next\n",
    "                action = action_next\n",
    "                done = terminated or truncated\n",
    "                t += 1\n",
    "            \n",
    "            self.evaluate(eps)"
   ]
  },
  {
   "cell_type": "code",
   "execution_count": null,
   "id": "65fa7113-237d-4c2e-b5ee-ecafa36019a8",
   "metadata": {},
   "outputs": [],
   "source": [
    "cliff_env = gym.make('CliffWalking-v0')\n",
    "cliff_env = gym.wrappers.TimeLimit(cliff_env,max_episode_steps=2000)\n",
    "sarsa = SARSA(env=cliff_env,logger=get_logger(name='sarsaLogger',fname='sarsa.log'))"
   ]
  },
  {
   "cell_type": "code",
   "execution_count": null,
   "id": "ea91905a-cceb-4411-8fa1-833befac2362",
   "metadata": {},
   "outputs": [],
   "source": [
    "sarsa.run(num_episode=3000)"
   ]
  },
  {
   "cell_type": "code",
   "execution_count": null,
   "id": "8c45f2f7-fb41-42e2-a2c5-d71e6d4dbea5",
   "metadata": {},
   "outputs": [],
   "source": [
    "sarsa.pi"
   ]
  },
  {
   "cell_type": "code",
   "execution_count": null,
   "id": "63377304-c3f3-49b0-95a3-04364ae702a4",
   "metadata": {},
   "outputs": [],
   "source": [
    "obs, _ = cliff_env.reset()\n",
    "returns = 0\n",
    "done = False\n",
    "while not done:\n",
    "    obs, reward, terminated, truncated, _ = cliff_env.step(sarsa.pi[obs])\n",
    "    returns += reward\n",
    "    done = terminated or truncated"
   ]
  },
  {
   "cell_type": "code",
   "execution_count": null,
   "id": "89cfb836-24e7-4d28-b0ae-9f64a089442b",
   "metadata": {},
   "outputs": [],
   "source": [
    "returns"
   ]
  },
  {
   "cell_type": "code",
   "execution_count": null,
   "id": "6f05dc1d-22cf-4a30-aa78-473026c04b86",
   "metadata": {},
   "outputs": [],
   "source": [
    "taxi_env = gym.make(\"Taxi-v3\")\n",
    "taxi_env = gym.wrappers.TimeLimit(taxi_env,max_episode_steps=5000)\n",
    "sarsa_taxi = SARSA(env=taxi_env,logger=get_logger(name='sarsaTaxiLogger',fname='sarsaTaxi.log'))"
   ]
  },
  {
   "cell_type": "code",
   "execution_count": null,
   "id": "5b2bad77-64f3-4283-a7d5-c47d04e240f2",
   "metadata": {},
   "outputs": [],
   "source": [
    "sarsa_taxi.run(num_episode=5000)"
   ]
  },
  {
   "cell_type": "code",
   "execution_count": null,
   "id": "1e25183d-60b9-49ce-be04-2ea25ed83c28",
   "metadata": {},
   "outputs": [],
   "source": []
  }
 ],
 "metadata": {
  "kernelspec": {
   "display_name": "Python 3 (ipykernel)",
   "language": "python",
   "name": "python3"
  },
  "language_info": {
   "codemirror_mode": {
    "name": "ipython",
    "version": 3
   },
   "file_extension": ".py",
   "mimetype": "text/x-python",
   "name": "python",
   "nbconvert_exporter": "python",
   "pygments_lexer": "ipython3",
   "version": "3.9.13"
  }
 },
 "nbformat": 4,
 "nbformat_minor": 5
}
