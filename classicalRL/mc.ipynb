{
 "cells": [
  {
   "cell_type": "code",
   "execution_count": null,
   "metadata": {},
   "outputs": [],
   "source": [
    "import gymnasium as gym\n",
    "import logging\n",
    "import numpy as np\n",
    "import sys"
   ]
  },
  {
   "cell_type": "code",
   "execution_count": null,
   "metadata": {},
   "outputs": [],
   "source": [
    "#Online MC control, only works for discrete observation & action space(tabular case)\n",
    "#deterministic policy\n",
    "class MonteCarloControl:\n",
    "    def __init__(self,env,logger,gamma=1.0,first_visit=False):\n",
    "        self.env = env\n",
    "        self.n = env.observation_space.n\n",
    "        self.action = env.action_space.n\n",
    "        self.first = first_visit\n",
    "        self.gamma = gamma\n",
    "        self.logger = logger\n",
    "        self.epsilon = 1.0\n",
    "    def initialize(self):\n",
    "        self.q_value = np.zeros((self.n,self.action))\n",
    "        self.returns = np.zeros((self.n,self.action))\n",
    "        self.nums = np.zeros((self.n,self.action),dtype=np.int32)#record number of returns for a specific (s,a)\n",
    "        self.pi = None\n",
    "    def generate_episode(self):\n",
    "        episode = {\"states\":[],\"actions\":[],\"rewards\":[]}\n",
    "        obs, _ = self.env.reset()\n",
    "        self.starting = obs\n",
    "        episode[\"states\"].append(obs)\n",
    "        done = False\n",
    "        while not done:\n",
    "            action = self.env.action_space.sample() if self.pi is None or np.random.uniform() <= self.epsilon else self.pi[obs]\n",
    "            obs, reward, terminated, truncated, _ = self.env.step(action)\n",
    "            episode[\"states\"].append(obs)\n",
    "            episode[\"rewards\"].append(reward)\n",
    "            episode[\"actions\"].append(action)\n",
    "            done = terminated or truncated\n",
    "        return episode\n",
    "    def evaluate(self,n_iter):\n",
    "        obs, _ = self.env.reset()\n",
    "        returns = 0\n",
    "        done = False\n",
    "        while not done:\n",
    "            obs, reward, terminated, truncated, _ = self.env.step(self.pi[obs])\n",
    "            returns += reward\n",
    "            done = terminated or truncated\n",
    "        self.logger.info(\"[ITERATION {}]: The expected return is {}\".format(n_iter,returns))\n",
    "        \n",
    "    def run(self,num_eps=1000):\n",
    "        if not hasattr(self,\"pi\"):\n",
    "            self.initialize()\n",
    "        for k in range(num_eps):\n",
    "            episode = self.generate_episode()\n",
    "            episodic_returns = np.zeros((self.n,self.action))\n",
    "            episodic_nums = np.zeros((self.n,self.action),dtype=np.int32)\n",
    "            states, rewards, actions = episode[\"states\"], episode[\"rewards\"], episode[\"actions\"]\n",
    "            returns = 0\n",
    "            for state, reward, action in zip(reversed(states[:-1]),reversed(rewards),reversed(actions)):\n",
    "                returns = returns * self.gamma + reward\n",
    "                if self.first is True:\n",
    "                    episodic_returns[state,action] = returns\n",
    "                    episodic_nums[state,action] = 1\n",
    "                else:\n",
    "                    episodic_returns[state,action] += returns\n",
    "                    episodic_nums[state,action] += 1\n",
    "            self.returns += episodic_returns\n",
    "            self.nums += episodic_nums\n",
    "            self.q_value = self.returns / ((self.nums == 0) + self.nums)\n",
    "            \n",
    "            self.epsilon = 1/(k+2)\n",
    "            self.pi = np.argmax(self.q_value,axis=1)\n",
    "            self.evaluate(k)\n",
    "        return self.pi, self.q_value"
   ]
  },
  {
   "cell_type": "code",
   "execution_count": null,
   "metadata": {},
   "outputs": [],
   "source": [
    "def get_logger():\n",
    "    logger = logging.getLogger('MCLogger')\n",
    "    logger.setLevel(logging.INFO)\n",
    "    fileHandler = logging.FileHandler('mc.log',mode='w')\n",
    "    stdHandler = logging.StreamHandler(stream=sys.stdout)\n",
    "    formatter = logging.Formatter('%(message)s')\n",
    "    fileHandler.setFormatter(formatter)\n",
    "    stdHandler.setFormatter(formatter)\n",
    "    if not logger.hasHandlers():\n",
    "        logger.addHandler(fileHandler)\n",
    "        logger.addHandler(stdHandler)\n",
    "    return logger"
   ]
  },
  {
   "cell_type": "code",
   "execution_count": null,
   "metadata": {},
   "outputs": [],
   "source": [
    "cliff_env = gym.make('CliffWalking-v0')\n",
    "lake_env = gym.make('FrozenLake-v1')"
   ]
  },
  {
   "cell_type": "code",
   "execution_count": null,
   "metadata": {},
   "outputs": [],
   "source": [
    "cliff_env = gym.wrappers.TimeLimit(cliff_env,max_episode_steps=2000)\n",
    "lake_env = gym.wrappers.TimeLimit(lake_env,max_episode_steps=2000)"
   ]
  },
  {
   "cell_type": "code",
   "execution_count": null,
   "metadata": {},
   "outputs": [],
   "source": [
    "mcc = MonteCarloControl(env=cliff_env,logger=get_logger(),first_visit=True)"
   ]
  },
  {
   "cell_type": "code",
   "execution_count": null,
   "metadata": {},
   "outputs": [],
   "source": [
    "pi,q = mcc.run(num_eps=6000)"
   ]
  },
  {
   "cell_type": "code",
   "execution_count": null,
   "metadata": {},
   "outputs": [],
   "source": []
  }
 ],
 "metadata": {
  "kernelspec": {
   "display_name": "Python 3 (ipykernel)",
   "language": "python",
   "name": "python3"
  },
  "language_info": {
   "codemirror_mode": {
    "name": "ipython",
    "version": 3
   },
   "file_extension": ".py",
   "mimetype": "text/x-python",
   "name": "python",
   "nbconvert_exporter": "python",
   "pygments_lexer": "ipython3",
   "version": "3.9.13"
  }
 },
 "nbformat": 4,
 "nbformat_minor": 4
}
